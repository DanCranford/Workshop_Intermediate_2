{
 "cells": [
  {
   "cell_type": "code",
   "execution_count": 10,
   "metadata": {},
   "outputs": [],
   "source": [
    "import arcgis\n",
    "\n",
    "username = input('Username: ')\n",
    "\n",
    "session_gis = arcgis.GIS('https://arcgis.com',username)\n",
    "session_gis = arcgis.GIS()"
   ]
  },
  {
   "cell_type": "code",
   "execution_count": 11,
   "metadata": {},
   "outputs": [
    {
     "data": {
      "text/html": [
       "<div class=\"item_container\" style=\"height: auto; overflow: hidden; border: 1px solid #cfcfcf; border-radius: 2px; background: #f6fafa; line-height: 1.21429em; padding: 10px;\">\n",
       "                    <div class=\"item_left\" style=\"width: 210px; float: left;\">\n",
       "                       <a href='https://www.arcgis.com/home/item.html?id=973066d2de4640dfa2c628e884190a35' target='_blank'>\n",
       "                        <img src='https://www.arcgis.com/sharing/rest//content/items/973066d2de4640dfa2c628e884190a35/info/thumbnail/ago_downloaded.png' class=\"itemThumbnail\">\n",
       "                       </a>\n",
       "                    </div>\n",
       "\n",
       "                    <div class=\"item_right\"     style=\"float: none; width: auto; overflow: hidden;\">\n",
       "                        <a href='https://www.arcgis.com/home/item.html?id=973066d2de4640dfa2c628e884190a35' target='_blank'><b>BayGeo_Workshop_States</b>\n",
       "                        </a>\n",
       "                        <br/>state geometry for editing<img src='https://www.arcgis.com/home/js/jsapi/esri/css/images/item_type_icons/featureshosted16.png' style=\"vertical-align:middle;\">Feature Layer Collection by dancranford\n",
       "                        <br/>Last Modified: April 20, 2020\n",
       "                        <br/>0 comments, 7 views\n",
       "                    </div>\n",
       "                </div>\n",
       "                "
      ],
      "text/plain": [
       "<Item title:\"BayGeo_Workshop_States\" type:Feature Layer Collection owner:dancranford>"
      ]
     },
     "execution_count": 11,
     "metadata": {},
     "output_type": "execute_result"
    }
   ],
   "source": [
    "item_toedit = arcgis.gis.Item(session_gis, '973066d2de4640dfa2c628e884190a35')\n",
    "item_toedit"
   ]
  },
  {
   "cell_type": "code",
   "execution_count": 12,
   "metadata": {},
   "outputs": [],
   "source": [
    "lyr_toedit = item_toedit.layers[0]"
   ]
  },
  {
   "cell_type": "code",
   "execution_count": 13,
   "metadata": {},
   "outputs": [],
   "source": [
    "# RESET ALL THE VALUES\n",
    "\n",
    "# lyr_toedit.calculate(where='1=1',\n",
    "#                     calc_expression = {'field': 'LIVED_IN',\n",
    "#                                       'value': 0})\n",
    "# lyr_toedit.calculate(where='1=1',\n",
    "#                     calc_expression = {'field': 'VISITED',\n",
    "#                                       'value': 0})"
   ]
  },
  {
   "cell_type": "code",
   "execution_count": 14,
   "metadata": {},
   "outputs": [],
   "source": [
    "fset_all = lyr_toedit.query(return_geometry=False)"
   ]
  },
  {
   "cell_type": "code",
   "execution_count": 15,
   "metadata": {},
   "outputs": [
    {
     "data": {
      "text/html": [
       "<div>\n",
       "<style scoped>\n",
       "    .dataframe tbody tr th:only-of-type {\n",
       "        vertical-align: middle;\n",
       "    }\n",
       "\n",
       "    .dataframe tbody tr th {\n",
       "        vertical-align: top;\n",
       "    }\n",
       "\n",
       "    .dataframe thead th {\n",
       "        text-align: right;\n",
       "    }\n",
       "</style>\n",
       "<table border=\"1\" class=\"dataframe\">\n",
       "  <thead>\n",
       "    <tr style=\"text-align: right;\">\n",
       "      <th></th>\n",
       "      <th>OBJECTID</th>\n",
       "      <th>GlobalID</th>\n",
       "      <th>CreationDate</th>\n",
       "      <th>Creator</th>\n",
       "      <th>EditDate</th>\n",
       "      <th>Editor</th>\n",
       "      <th>STATE_NAME</th>\n",
       "      <th>STATE_ABBR</th>\n",
       "      <th>SUB_REGION</th>\n",
       "      <th>Shape__Area</th>\n",
       "      <th>Shape__Length</th>\n",
       "      <th>LIVED_IN</th>\n",
       "      <th>VISITED</th>\n",
       "    </tr>\n",
       "  </thead>\n",
       "  <tbody>\n",
       "    <tr>\n",
       "      <td>0</td>\n",
       "      <td>1</td>\n",
       "      <td>9d1eca82-e656-4e04-a534-4ecb11bce01b</td>\n",
       "      <td>2020-04-20 22:53:46.158999920</td>\n",
       "      <td>dancranford</td>\n",
       "      <td>2020-04-20 23:01:51.223000050</td>\n",
       "      <td>dancranford</td>\n",
       "      <td>Alaska</td>\n",
       "      <td>AK</td>\n",
       "      <td>Pacific</td>\n",
       "      <td>8.101401e+12</td>\n",
       "      <td>5.924954e+07</td>\n",
       "      <td>0</td>\n",
       "      <td>0</td>\n",
       "    </tr>\n",
       "    <tr>\n",
       "      <td>1</td>\n",
       "      <td>2</td>\n",
       "      <td>44bfa624-41f5-4379-aa08-1997aaf441f8</td>\n",
       "      <td>2020-04-20 22:53:46.158999920</td>\n",
       "      <td>dancranford</td>\n",
       "      <td>2020-04-20 23:01:51.223000050</td>\n",
       "      <td>dancranford</td>\n",
       "      <td>California</td>\n",
       "      <td>CA</td>\n",
       "      <td>Pacific</td>\n",
       "      <td>6.479799e+11</td>\n",
       "      <td>5.237952e+06</td>\n",
       "      <td>0</td>\n",
       "      <td>0</td>\n",
       "    </tr>\n",
       "    <tr>\n",
       "      <td>2</td>\n",
       "      <td>3</td>\n",
       "      <td>cb131401-1ca7-4959-9dc8-08a58b4ef1bb</td>\n",
       "      <td>2020-04-20 22:53:46.158999920</td>\n",
       "      <td>dancranford</td>\n",
       "      <td>2020-04-20 23:01:51.223000050</td>\n",
       "      <td>dancranford</td>\n",
       "      <td>Hawaii</td>\n",
       "      <td>HI</td>\n",
       "      <td>Pacific</td>\n",
       "      <td>1.888067e+10</td>\n",
       "      <td>1.370185e+06</td>\n",
       "      <td>0</td>\n",
       "      <td>0</td>\n",
       "    </tr>\n",
       "    <tr>\n",
       "      <td>3</td>\n",
       "      <td>4</td>\n",
       "      <td>a504fdd3-2e02-4bcb-b34d-d67fb83ef2fa</td>\n",
       "      <td>2020-04-20 22:53:46.158999920</td>\n",
       "      <td>dancranford</td>\n",
       "      <td>2020-04-20 23:01:51.223000050</td>\n",
       "      <td>dancranford</td>\n",
       "      <td>Idaho</td>\n",
       "      <td>ID</td>\n",
       "      <td>Mountain</td>\n",
       "      <td>4.235214e+11</td>\n",
       "      <td>3.858889e+06</td>\n",
       "      <td>0</td>\n",
       "      <td>0</td>\n",
       "    </tr>\n",
       "    <tr>\n",
       "      <td>4</td>\n",
       "      <td>5</td>\n",
       "      <td>49da245f-a012-4142-8617-8b4788a6741f</td>\n",
       "      <td>2020-04-20 22:53:46.158999920</td>\n",
       "      <td>dancranford</td>\n",
       "      <td>2020-04-20 23:01:51.223000050</td>\n",
       "      <td>dancranford</td>\n",
       "      <td>Nevada</td>\n",
       "      <td>NV</td>\n",
       "      <td>Mountain</td>\n",
       "      <td>4.807101e+11</td>\n",
       "      <td>3.025639e+06</td>\n",
       "      <td>0</td>\n",
       "      <td>0</td>\n",
       "    </tr>\n",
       "  </tbody>\n",
       "</table>\n",
       "</div>"
      ],
      "text/plain": [
       "   OBJECTID                              GlobalID  \\\n",
       "0         1  9d1eca82-e656-4e04-a534-4ecb11bce01b   \n",
       "1         2  44bfa624-41f5-4379-aa08-1997aaf441f8   \n",
       "2         3  cb131401-1ca7-4959-9dc8-08a58b4ef1bb   \n",
       "3         4  a504fdd3-2e02-4bcb-b34d-d67fb83ef2fa   \n",
       "4         5  49da245f-a012-4142-8617-8b4788a6741f   \n",
       "\n",
       "                   CreationDate      Creator                      EditDate  \\\n",
       "0 2020-04-20 22:53:46.158999920  dancranford 2020-04-20 23:01:51.223000050   \n",
       "1 2020-04-20 22:53:46.158999920  dancranford 2020-04-20 23:01:51.223000050   \n",
       "2 2020-04-20 22:53:46.158999920  dancranford 2020-04-20 23:01:51.223000050   \n",
       "3 2020-04-20 22:53:46.158999920  dancranford 2020-04-20 23:01:51.223000050   \n",
       "4 2020-04-20 22:53:46.158999920  dancranford 2020-04-20 23:01:51.223000050   \n",
       "\n",
       "        Editor  STATE_NAME STATE_ABBR SUB_REGION   Shape__Area  Shape__Length  \\\n",
       "0  dancranford      Alaska         AK    Pacific  8.101401e+12   5.924954e+07   \n",
       "1  dancranford  California         CA    Pacific  6.479799e+11   5.237952e+06   \n",
       "2  dancranford      Hawaii         HI    Pacific  1.888067e+10   1.370185e+06   \n",
       "3  dancranford       Idaho         ID   Mountain  4.235214e+11   3.858889e+06   \n",
       "4  dancranford      Nevada         NV   Mountain  4.807101e+11   3.025639e+06   \n",
       "\n",
       "   LIVED_IN  VISITED  \n",
       "0         0        0  \n",
       "1         0        0  \n",
       "2         0        0  \n",
       "3         0        0  \n",
       "4         0        0  "
      ]
     },
     "execution_count": 15,
     "metadata": {},
     "output_type": "execute_result"
    }
   ],
   "source": [
    "fset_all.sdf.head()"
   ]
  },
  {
   "cell_type": "code",
   "execution_count": 17,
   "metadata": {},
   "outputs": [
    {
     "data": {
      "text/plain": [
       "{'addResults': [],\n",
       " 'updateResults': [{'objectId': 41,\n",
       "   'uniqueId': 41,\n",
       "   'globalId': None,\n",
       "   'success': False,\n",
       "   'error': {'code': 1009,\n",
       "    'description': 'No permission to edit the specified feature.'}}],\n",
       " 'deleteResults': []}"
      ]
     },
     "execution_count": 17,
     "metadata": {},
     "output_type": "execute_result"
    }
   ],
   "source": [
    "where_im_from = 'New York'\n",
    "fset_homestate = lyr_toedit.query(where=\"STATE_NAME = '{}'\".format(where_im_from))\n",
    "\n",
    "for feature in fset_homestate.features:\n",
    "    old_value = feature.get_value('LIVED_IN')\n",
    "    new_value = old_value + 1\n",
    "    feature.set_value('LIVED_IN', new_value)\n",
    "\n",
    "lyr_toedit.edit_features(updates=fset_homestate.features)"
   ]
  },
  {
   "cell_type": "code",
   "execution_count": null,
   "metadata": {},
   "outputs": [],
   "source": []
  }
 ],
 "metadata": {
  "kernelspec": {
   "display_name": "Python 3",
   "language": "python",
   "name": "python3"
  },
  "language_info": {
   "codemirror_mode": {
    "name": "ipython",
    "version": 3
   },
   "file_extension": ".py",
   "mimetype": "text/x-python",
   "name": "python",
   "nbconvert_exporter": "python",
   "pygments_lexer": "ipython3",
   "version": "3.6.9"
  }
 },
 "nbformat": 4,
 "nbformat_minor": 2
}
